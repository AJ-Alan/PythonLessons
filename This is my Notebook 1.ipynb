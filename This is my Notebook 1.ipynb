{
 "cells": [
  {
   "cell_type": "markdown",
   "id": "284d6aed",
   "metadata": {},
   "source": [
    "**This is my notebook!**"
   ]
  },
  {
   "cell_type": "markdown",
   "id": "94b2e1a7",
   "metadata": {},
   "source": [
    "import math\n",
    "\n",
    "a = float(input(\"\\ninput a: \"))\n",
    "b = float(input(\"\\ninput b: \"))\n",
    "c = float(input(\"\\ninput c: \"))\n",
    "d = float(input(\"\\ninput d: \"))\n",
    "\n",
    "r = math.sqrt(a*a + b*b)\n",
    "\n",
    "if a == 0:\n",
    "    if b > 0:\n",
    "        theta = math.pi/2\n",
    "    elif b < 0:\n",
    "        theta = -math.pi/2\n",
    "elif a < 0:\n",
    "    theta = math.pi\n",
    "else:\n",
    "    theta = math.atan(b/a)\n",
    "\n",
    "angle = c*theta + d*math.log(r)\n",
    "radius = (r**c)*math.exp(-d*theta)\n",
    "\n",
    "if a == 0 and b == 0 and c == 0:\n",
    "    print(\"\\nThe value is undefined\")\n",
    "else:\n",
    "    real = radius*math.cos(angle)\n",
    "    imaginary = radius*math.sin(angle)\n",
    "    if round(imaginary,4) == 0: ##Real\n",
    "        print(\"\\nThe result is Real:\\n\\t\", real)\n",
    "    elif round(real,4) == 0: ##Imaginary\n",
    "        print(\"\\nThe result is Imaginary:\\nRectangular form:\\n\\t\", imaginary, \" * i\")\n",
    "        print(\"\\nPolar form:\\n\\t[\", radius, \",\", angle, \"]\")\n",
    "    else: ##complex\n",
    "        print(\"\\nThe result is Complex:\\nRectangular form:\\n\\t\", real, \" + \" imaginary, \" * i\")\n",
    "        print(\"\\nPolar form:\\n\\t[\", radius, \",\", angle, \"]\")"
   ]
  },
  {
   "cell_type": "markdown",
   "id": "d05f679c",
   "metadata": {},
   "source": [
    "import math\n",
    "\n",
    "a = float(input(\"\\ninput a: \"))\n",
    "b = float(input(\"\\ninput b: \"))\n",
    "c = float(input(\"\\ninput c: \"))\n",
    "d = float(input(\"\\ninput d: \"))\n",
    "\n",
    "r = math.sqrt(a*a + b*b)\n",
    "\n",
    "if a == 0:\n",
    "    if b > 0:\n",
    "        theta = math.pi/2\n",
    "    elif b < 0:\n",
    "        theta = -math.pi/2\n",
    "elif a < 0:\n",
    "    theta = math.pi\n",
    "else:\n",
    "    theta = math.atan(b/a)\n",
    "\n",
    "angle = c*theta + d*math.log(r)\n",
    "radius = (r**c)*math.exp(-d*theta)\n",
    "\n",
    "if a == 0 and b == 0 and c == 0:\n",
    "    print(\"\\nThe value is undefined\")\n",
    "else:\n",
    "    real = radius*math.cos(angle)\n",
    "    imaginary = radius*math.sin(angle)\n",
    "    if round(imaginary,4) == 0: ##Real\n",
    "        print(\"\\nThe result is Real:\\n\\t\", real)\n",
    "    elif round(real,4) == 0: ##Imaginary\n",
    "        print(\"\\nThe result is Imaginary:\\nRectangular form:\\n\\t\", imaginary, \" * i\")\n",
    "        print(\"\\nPolar form:\\n\\t[\", radius, \",\", angle, \"]\")\n",
    "    else: ##complex\n",
    "        print(\"\\nThe result is Complex:\\nRectangular form:\\n\\t\", real, \", + \" imaginary, \" * i\")\n",
    "        print(\"\\nPolar form:\\n\\t[\", radius, \",\", angle, \"]\")"
   ]
  },
  {
   "cell_type": "markdown",
   "id": "eac0d714",
   "metadata": {},
   "source": [
    "import math\n",
    "\n",
    "a = float(input(\"\\ninput a: \"))\n",
    "b = float(input(\"\\ninput b: \"))\n",
    "c = float(input(\"\\ninput c: \"))\n",
    "d = float(input(\"\\ninput d: \"))\n",
    "\n",
    "r = math.sqrt(a*a + b*b)\n",
    "\n",
    "if a == 0:\n",
    "    if b > 0:\n",
    "        theta = math.pi/2\n",
    "    elif b < 0:\n",
    "        theta = -math.pi/2\n",
    "elif a < 0:\n",
    "    theta = math.pi\n",
    "else:\n",
    "    theta = math.atan(b/a)\n",
    "\n",
    "angle = c*theta + d*math.log(r)\n",
    "radius = (r**c)*math.exp(-d*theta)\n",
    "\n",
    "if a == 0 and b == 0 and c == 0:\n",
    "    print(\"\\nThe value is undefined\")\n",
    "else:\n",
    "    real = radius*math.cos(angle)\n",
    "    imaginary = radius*math.sin(angle)\n",
    "    if round(imaginary,4) == 0: ##Real\n",
    "        print(\"\\nThe result is Real:\\n\\t\", real)\n",
    "    elif round(real,4) == 0: ##Imaginary\n",
    "        print(\"\\nThe result is Imaginary:\\nRectangular form:\\n\\t\", imaginary, \" * i\")\n",
    "        print(\"\\nPolar form:\\n\\t[\", radius, \",\", angle, \"]\")\n",
    "    else: ##complex\n",
    "        print(\"\\nThe result is Complex:\\nRectangular form:\\n\\t\", real, \" + \", imaginary, \" * i\")\n",
    "        print(\"\\nPolar form:\\n\\t[\", radius, \",\", angle, \"]\")"
   ]
  },
  {
   "cell_type": "markdown",
   "id": "d8fe61ac",
   "metadata": {},
   "source": [
    "import math\n",
    "\n",
    "a = float(input(\"\\ninput a: \"))\n",
    "b = float(input(\"\\ninput b: \"))\n",
    "c = float(input(\"\\ninput c: \"))\n",
    "d = float(input(\"\\ninput d: \"))\n",
    "\n",
    "r = math.sqrt(a*a + b*b)\n",
    "\n",
    "if a == 0:\n",
    "    if b > 0:\n",
    "        theta = math.pi/2\n",
    "    elif b < 0:\n",
    "        theta = -math.pi/2\n",
    "elif a < 0:\n",
    "    theta = math.pi\n",
    "else:\n",
    "    theta = math.atan(b/a)\n",
    "\n",
    "angle = c*theta + d*math.log(r)\n",
    "radius = (r**c)*math.exp(-d*theta)\n",
    "\n",
    "if a == 0 and b == 0 and c == 0:\n",
    "    print(\"\\nThe value is undefined\")\n",
    "else:\n",
    "    real = radius*math.cos(angle)\n",
    "    imaginary = radius*math.sin(angle)\n",
    "    if round(imaginary,4) == 0: ##Real\n",
    "        print(\"\\nThe result is Real:\\n\\t\", real)\n",
    "    elif round(real,4) == 0: ##Imaginary\n",
    "        print(\"\\nThe result is Imaginary:\\nRectangular form:\\n\\t\", imaginary, \" * i\")\n",
    "        print(\"\\nPolar form:\\n\\t[\", radius, \",\", angle, \"]\")\n",
    "    else: ##complex\n",
    "        print(\"\\nThe result is Complex:\\nRectangular form:\\n\\t\", real, \" + \", imaginary, \" * i\")\n",
    "        print(\"\\nPolar form:\\n\\t[\", radius, \",\", angle, \"]\")"
   ]
  },
  {
   "cell_type": "markdown",
   "id": "b5dc69d3",
   "metadata": {},
   "source": [
    "import math\n",
    "\n",
    "a = float(input(\"\\ninput a: \"))\n",
    "b = float(input(\"\\ninput b: \"))\n",
    "c = float(input(\"\\ninput c: \"))\n",
    "d = float(input(\"\\ninput d: \"))\n",
    "\n",
    "r = math.sqrt(a*a + b*b)\n",
    "\n",
    "if a == 0:\n",
    "    if b > 0:\n",
    "        theta = math.pi/2\n",
    "    elif b < 0:\n",
    "        theta = -math.pi/2\n",
    "elif a < 0:\n",
    "    theta = math.pi\n",
    "else:\n",
    "    theta = math.atan(b/a)\n",
    "\n",
    "angle = c*theta + d*math.log(r)\n",
    "radius = (r**c)*math.exp(-d*theta)\n",
    "\n",
    "if a == 0 and b == 0 and c == 0:\n",
    "    print(\"\\nThe value is undefined\")\n",
    "else:\n",
    "    real = radius*math.cos(angle)\n",
    "    imaginary = radius*math.sin(angle)\n",
    "    if round(imaginary,4) == 0: ##Real\n",
    "        print(\"\\nThe result is Real:\\n\\t\", real)\n",
    "    elif round(real,4) == 0: ##Imaginary\n",
    "        print(\"\\nThe result is Imaginary:\\nRectangular form:\\n\\t\", imaginary, \" * i\")\n",
    "        print(\"\\nPolar form:\\n\\t[\", radius, \",\", angle, \"]\")\n",
    "    else: ##complex\n",
    "        print(\"\\nThe result is Complex:\\nRectangular form:\\n\\t\", real, \" + \", imaginary, \" * i\")\n",
    "        print(\"\\nPolar form:\\n\\t[\", radius, \",\", angle, \"]\")"
   ]
  },
  {
   "cell_type": "raw",
   "id": "519d7e9c",
   "metadata": {},
   "source": [
    "# This is a program that computes complex exponentiation\n",
    "# The standard form will be:\n",
    "#          (c + di)\n",
    "# (a + bi)\n",
    "# where a, b, c, and d are Real numbers\n",
    "# where the general form of Complex Exponentiation where r = sqrt(a^2 + b^2) and theta = arctan(b/a)\n",
    "##is: (a + bi)^(c + di) = (r^c)*(e^(-d*theta))*(cos(c*theta + d*ln(r)) + i*sin(c*theta + d*ln(r)))\n",
    "\n",
    "import math #imports math library to use the mathematical functions\n",
    "\n",
    "a = float(input(\"\\ninput a: \")) #input real number a (base)\n",
    "b = float(input(\"\\ninput b: \")) #input real number b for imaginary part (base)\n",
    "c = float(input(\"\\ninput c: \")) #input real number c (exponent)\n",
    "d = float(input(\"\\ninput d: \")) #input real number d for imaginary part (exponent)\n",
    "\n",
    "# base's radius\n",
    "r = math.sqrt(a*a + b*b)\n",
    "\n",
    "# if statements for the base's angle\n",
    "if a == 0: # if its purely imaginary, the angle arctangent would be b/0, and python cannot compute that\n",
    "    if b > 0:\n",
    "        theta = math.pi/2 # where arctan(+b/0) = pi/2; and any pure imaginary number either has pi/2 for positive or (-pi/2 or 3pi/2) for negative\n",
    "    elif b < 0:\n",
    "        theta = -math.pi/2 # where arctan(-b/0) = -pi/2\n",
    "elif a < 0:# for negative real exponentiation cases\n",
    "    theta = math.pi # where arctan(0/a) will not yield a result, but all negative real numbers will have an angle of pi\n",
    "else: # otherwise, the normal arctangent will work for these cases\n",
    "    theta = math.atan(b/a)\n",
    "\n",
    "angle = c*theta + d*math.log(r) #new final angle to be inputed to the modified general formula\n",
    "radius = (r**c)*math.exp(-d*theta) #new final radius to be inputed to the modified general formula\n",
    "# both of these will be used the Polar Form\n",
    "\n",
    "if a == 0 and b == 0 and c == 0: # both forms of 0^0 and 0^i are undefined\n",
    "    print(\"\\nThe value is undefined\")\n",
    "else: # otherwise, the general form can be computed\n",
    "    real = radius*math.cos(angle) # computes the Real part of the Complex number; the 'a' in \"a + bi\"\n",
    "    imaginary = radius*math.sin(angle) # computes the Imaginary part of the Complex number; the 'b' in \"a + bi\"\n",
    "    ## if statements for checking if the result is Real, Imaginary, or Complex\n",
    "    if round(imaginary,4) == 0: #Real results only\n",
    "        print(\"\\nThe result is Real:\\n\\t\", real)\n",
    "    elif round(real,4) == 0: #Imaginary results only\n",
    "        print(\"\\nThe result is Imaginary:\\nRectangular form:\\n\\t\", imaginary, \" * i\")\n",
    "        print(\"\\nPolar form:\\n\\t[\", radius, \",\", angle, \"]\")\n",
    "    else: # Complex results only\n",
    "        print(\"\\nThe result is Complex:\\nRectangular form:\\n\\t\", real, \" + \", imaginary, \" * i\")\n",
    "        print(\"Polar form:\\n\\t[\", radius, \",\", angle, \"]\")"
   ]
  },
  {
   "cell_type": "code",
   "execution_count": 7,
   "id": "562f23da",
   "metadata": {},
   "outputs": [
    {
     "data": {
      "text/plain": [
       "int"
      ]
     },
     "execution_count": 7,
     "metadata": {},
     "output_type": "execute_result"
    }
   ],
   "source": [
    "type(346)"
   ]
  },
  {
   "cell_type": "code",
   "execution_count": 8,
   "id": "88d33209",
   "metadata": {},
   "outputs": [
    {
     "data": {
      "text/plain": [
       "float"
      ]
     },
     "execution_count": 8,
     "metadata": {},
     "output_type": "execute_result"
    }
   ],
   "source": [
    "type(45.3)"
   ]
  },
  {
   "cell_type": "code",
   "execution_count": 9,
   "id": "780dfe55",
   "metadata": {},
   "outputs": [
    {
     "data": {
      "text/plain": [
       "str"
      ]
     },
     "execution_count": 9,
     "metadata": {},
     "output_type": "execute_result"
    }
   ],
   "source": [
    "type('c')"
   ]
  },
  {
   "cell_type": "code",
   "execution_count": 10,
   "id": "f5e99f76",
   "metadata": {},
   "outputs": [
    {
     "data": {
      "text/plain": [
       "bool"
      ]
     },
     "execution_count": 10,
     "metadata": {},
     "output_type": "execute_result"
    }
   ],
   "source": [
    "type(True)"
   ]
  },
  {
   "cell_type": "markdown",
   "id": "7a34ecd8",
   "metadata": {},
   "source": [
    "**Python Type Conversion**\n",
    "How will I convert 34.5 to integer?"
   ]
  },
  {
   "cell_type": "code",
   "execution_count": 11,
   "id": "fae8285b",
   "metadata": {},
   "outputs": [
    {
     "data": {
      "text/plain": [
       "34"
      ]
     },
     "execution_count": 11,
     "metadata": {},
     "output_type": "execute_result"
    }
   ],
   "source": [
    "int(34.5)"
   ]
  },
  {
   "cell_type": "code",
   "execution_count": 12,
   "id": "da6a9495",
   "metadata": {},
   "outputs": [
    {
     "data": {
      "text/plain": [
       "45.0"
      ]
     },
     "execution_count": 12,
     "metadata": {},
     "output_type": "execute_result"
    }
   ],
   "source": [
    "float(45)"
   ]
  },
  {
   "cell_type": "code",
   "execution_count": 13,
   "id": "9892e2c8",
   "metadata": {},
   "outputs": [
    {
     "data": {
      "text/plain": [
       "163"
      ]
     },
     "execution_count": 13,
     "metadata": {},
     "output_type": "execute_result"
    }
   ],
   "source": [
    "78 + 85"
   ]
  },
  {
   "cell_type": "code",
   "execution_count": 14,
   "id": "82522237",
   "metadata": {},
   "outputs": [
    {
     "data": {
      "text/plain": [
       "-7"
      ]
     },
     "execution_count": 14,
     "metadata": {},
     "output_type": "execute_result"
    }
   ],
   "source": [
    "78 - 85"
   ]
  },
  {
   "cell_type": "code",
   "execution_count": 15,
   "id": "7ef71763",
   "metadata": {},
   "outputs": [
    {
     "data": {
      "text/plain": [
       "6630"
      ]
     },
     "execution_count": 15,
     "metadata": {},
     "output_type": "execute_result"
    }
   ],
   "source": [
    "78*85"
   ]
  },
  {
   "cell_type": "code",
   "execution_count": 16,
   "id": "2e736492",
   "metadata": {},
   "outputs": [
    {
     "data": {
      "text/plain": [
       "67304054671971450739989420306807619836799377985470716666894760506378032361691314076427140597397010589541943423481240405499752742660038542135357687606606894727168"
      ]
     },
     "execution_count": 16,
     "metadata": {},
     "output_type": "execute_result"
    }
   ],
   "source": [
    "78**85"
   ]
  },
  {
   "cell_type": "code",
   "execution_count": 20,
   "id": "abf653ab",
   "metadata": {},
   "outputs": [
    {
     "ename": "ValueError",
     "evalue": "math domain error",
     "output_type": "error",
     "traceback": [
      "\u001b[1;31m---------------------------------------------------------------------------\u001b[0m",
      "\u001b[1;31mValueError\u001b[0m                                Traceback (most recent call last)",
      "Cell \u001b[1;32mIn[20], line 2\u001b[0m\n\u001b[0;32m      1\u001b[0m \u001b[38;5;28;01mimport\u001b[39;00m \u001b[38;5;21;01mmath\u001b[39;00m\n\u001b[1;32m----> 2\u001b[0m math\u001b[38;5;241m.\u001b[39msqrt(\u001b[38;5;241m-\u001b[39m\u001b[38;5;241m1\u001b[39m)\n",
      "\u001b[1;31mValueError\u001b[0m: math domain error"
     ]
    }
   ],
   "source": [
    "import math\n",
    "math.sqrt(-1)"
   ]
  },
  {
   "cell_type": "code",
   "execution_count": 21,
   "id": "9e25316d",
   "metadata": {},
   "outputs": [
    {
     "data": {
      "text/plain": [
       "3.3333333333333335"
      ]
     },
     "execution_count": 21,
     "metadata": {},
     "output_type": "execute_result"
    }
   ],
   "source": [
    "20/6"
   ]
  },
  {
   "cell_type": "code",
   "execution_count": 22,
   "id": "4dccdd43",
   "metadata": {},
   "outputs": [
    {
     "data": {
      "text/plain": [
       "3"
      ]
     },
     "execution_count": 22,
     "metadata": {},
     "output_type": "execute_result"
    }
   ],
   "source": [
    "20//6"
   ]
  },
  {
   "cell_type": "code",
   "execution_count": 23,
   "id": "48f8af2a",
   "metadata": {},
   "outputs": [
    {
     "data": {
      "text/plain": [
       "2"
      ]
     },
     "execution_count": 23,
     "metadata": {},
     "output_type": "execute_result"
    }
   ],
   "source": [
    "20%6"
   ]
  },
  {
   "cell_type": "code",
   "execution_count": 30,
   "id": "41728e6a",
   "metadata": {},
   "outputs": [
    {
     "data": {
      "text/plain": [
       "'Advanced Programming'"
      ]
     },
     "execution_count": 30,
     "metadata": {},
     "output_type": "execute_result"
    }
   ],
   "source": [
    "s = \"Advanced Programming\"\n",
    "s"
   ]
  },
  {
   "cell_type": "code",
   "execution_count": 26,
   "id": "ded8233b",
   "metadata": {},
   "outputs": [
    {
     "data": {
      "text/plain": [
       "'aDVANCED pROGRAMMING'"
      ]
     },
     "execution_count": 26,
     "metadata": {},
     "output_type": "execute_result"
    }
   ],
   "source": [
    "s.swapcase()"
   ]
  },
  {
   "cell_type": "code",
   "execution_count": 31,
   "id": "5174b4be",
   "metadata": {},
   "outputs": [
    {
     "data": {
      "text/plain": [
       "'v'"
      ]
     },
     "execution_count": 31,
     "metadata": {},
     "output_type": "execute_result"
    }
   ],
   "source": [
    "max(s)"
   ]
  },
  {
   "cell_type": "code",
   "execution_count": 27,
   "id": "471b28c7",
   "metadata": {},
   "outputs": [
    {
     "data": {
      "text/plain": [
       "False"
      ]
     },
     "execution_count": 27,
     "metadata": {},
     "output_type": "execute_result"
    }
   ],
   "source": [
    "s.isupper()"
   ]
  },
  {
   "cell_type": "code",
   "execution_count": 28,
   "id": "d638a964",
   "metadata": {},
   "outputs": [
    {
     "data": {
      "text/plain": [
       "'Advanced Progra**ing'"
      ]
     },
     "execution_count": 28,
     "metadata": {},
     "output_type": "execute_result"
    }
   ],
   "source": [
    "s.replace(\"m\",\"*\")"
   ]
  },
  {
   "cell_type": "code",
   "execution_count": 29,
   "id": "2b1e310e",
   "metadata": {},
   "outputs": [
    {
     "data": {
      "text/plain": [
       "True"
      ]
     },
     "execution_count": 29,
     "metadata": {},
     "output_type": "execute_result"
    }
   ],
   "source": [
    "x = \"gram\" in s\n",
    "x"
   ]
  },
  {
   "cell_type": "code",
   "execution_count": 43,
   "id": "f0fccf3d",
   "metadata": {},
   "outputs": [
    {
     "data": {
      "text/plain": [
       "'Advanced Programming'"
      ]
     },
     "execution_count": 43,
     "metadata": {},
     "output_type": "execute_result"
    }
   ],
   "source": [
    "s[0:20:1]"
   ]
  },
  {
   "cell_type": "code",
   "execution_count": 42,
   "id": "cb43d9af",
   "metadata": {},
   "outputs": [
    {
     "data": {
      "text/plain": [
       "'Avne rgamn'"
      ]
     },
     "execution_count": 42,
     "metadata": {},
     "output_type": "execute_result"
    }
   ],
   "source": [
    "s[0:20:2]"
   ]
  },
  {
   "cell_type": "code",
   "execution_count": 44,
   "id": "bc0ce943",
   "metadata": {},
   "outputs": [
    {
     "data": {
      "text/plain": [
       "'AaePgmn'"
      ]
     },
     "execution_count": 44,
     "metadata": {},
     "output_type": "execute_result"
    }
   ],
   "source": [
    "s[0:20:3]"
   ]
  },
  {
   "cell_type": "code",
   "execution_count": 45,
   "id": "8834c6bc",
   "metadata": {},
   "outputs": [
    {
     "data": {
      "text/plain": [
       "'An gm'"
      ]
     },
     "execution_count": 45,
     "metadata": {},
     "output_type": "execute_result"
    }
   ],
   "source": [
    "s[0:20:4]"
   ]
  },
  {
   "cell_type": "code",
   "execution_count": 46,
   "id": "f3790e57",
   "metadata": {},
   "outputs": [
    {
     "data": {
      "text/plain": [
       "'Acrm'"
      ]
     },
     "execution_count": 46,
     "metadata": {},
     "output_type": "execute_result"
    }
   ],
   "source": [
    "s[0:20:5]"
   ]
  },
  {
   "cell_type": "code",
   "execution_count": 48,
   "id": "5529a848",
   "metadata": {},
   "outputs": [
    {
     "data": {
      "text/plain": [
       "'I love Advanced Programming'"
      ]
     },
     "execution_count": 48,
     "metadata": {},
     "output_type": "execute_result"
    }
   ],
   "source": [
    "txt = \"I love {}\"\n",
    "txt.format(s)"
   ]
  },
  {
   "cell_type": "markdown",
   "id": "e81d645f",
   "metadata": {},
   "source": [
    "Python's Data Structues\n",
    "\n",
    "List, Dictionary, Set, Tuple"
   ]
  },
  {
   "cell_type": "markdown",
   "id": "90f6a97a",
   "metadata": {},
   "source": [
    "List"
   ]
  },
  {
   "cell_type": "code",
   "execution_count": 51,
   "id": "bdc72f61",
   "metadata": {},
   "outputs": [
    {
     "data": {
      "text/plain": [
       "['apple', 'banana', 'cherry']"
      ]
     },
     "execution_count": 51,
     "metadata": {},
     "output_type": "execute_result"
    }
   ],
   "source": [
    "m = [\"apple\", \"banana\", \"cherry\"]\n",
    "m"
   ]
  },
  {
   "cell_type": "code",
   "execution_count": 52,
   "id": "0b5e40f3",
   "metadata": {},
   "outputs": [
    {
     "name": "stdout",
     "output_type": "stream",
     "text": [
      "banana\n"
     ]
    }
   ],
   "source": [
    "print(m[1])"
   ]
  },
  {
   "cell_type": "code",
   "execution_count": 53,
   "id": "b777c619",
   "metadata": {},
   "outputs": [
    {
     "name": "stdout",
     "output_type": "stream",
     "text": [
      "cherry\n"
     ]
    }
   ],
   "source": [
    "print(m[-1])"
   ]
  },
  {
   "cell_type": "code",
   "execution_count": 54,
   "id": "802b1307",
   "metadata": {},
   "outputs": [
    {
     "data": {
      "text/plain": [
       "['apple', 'banana', 'cherry', 'mango']"
      ]
     },
     "execution_count": 54,
     "metadata": {},
     "output_type": "execute_result"
    }
   ],
   "source": [
    "m.append(\"mango\")\n",
    "m"
   ]
  },
  {
   "cell_type": "code",
   "execution_count": 55,
   "id": "9d06c945",
   "metadata": {},
   "outputs": [
    {
     "data": {
      "text/plain": [
       "['apple', 'banana', 'orange', 'cherry', 'mango']"
      ]
     },
     "execution_count": 55,
     "metadata": {},
     "output_type": "execute_result"
    }
   ],
   "source": [
    "m.insert(2,\"orange\")\n",
    "m"
   ]
  },
  {
   "cell_type": "code",
   "execution_count": 56,
   "id": "c141c41e",
   "metadata": {},
   "outputs": [
    {
     "data": {
      "text/plain": [
       "['apple', 'orange', 'cherry', 'mango']"
      ]
     },
     "execution_count": 56,
     "metadata": {},
     "output_type": "execute_result"
    }
   ],
   "source": [
    "m.remove(\"banana\")\n",
    "m"
   ]
  },
  {
   "cell_type": "code",
   "execution_count": 57,
   "id": "09a6e0f2",
   "metadata": {},
   "outputs": [
    {
     "data": {
      "text/plain": [
       "['apple', 'cherry', 'mango', 'orange']"
      ]
     },
     "execution_count": 57,
     "metadata": {},
     "output_type": "execute_result"
    }
   ],
   "source": [
    "m.sort()\n",
    "m"
   ]
  },
  {
   "cell_type": "code",
   "execution_count": 58,
   "id": "af42e80e",
   "metadata": {},
   "outputs": [
    {
     "data": {
      "text/plain": [
       "['apple', 'mango', 'orange']"
      ]
     },
     "execution_count": 58,
     "metadata": {},
     "output_type": "execute_result"
    }
   ],
   "source": [
    "del m[1]\n",
    "m"
   ]
  },
  {
   "cell_type": "markdown",
   "id": "99bed8b7",
   "metadata": {},
   "source": [
    "Dictionary:"
   ]
  },
  {
   "cell_type": "code",
   "execution_count": 59,
   "id": "1e8d4a40",
   "metadata": {},
   "outputs": [
    {
     "data": {
      "text/plain": [
       "{'brand': 'Mitsubishi', 'model': 'Mirage', 'Year': 2018}"
      ]
     },
     "execution_count": 59,
     "metadata": {},
     "output_type": "execute_result"
    }
   ],
   "source": [
    "d = {\"brand\":\"Mitsubishi\", \"model\":\"Mirage\", \"Year\":2018}\n",
    "d"
   ]
  },
  {
   "cell_type": "code",
   "execution_count": 60,
   "id": "5b38734c",
   "metadata": {},
   "outputs": [
    {
     "data": {
      "text/plain": [
       "'Mirage'"
      ]
     },
     "execution_count": 60,
     "metadata": {},
     "output_type": "execute_result"
    }
   ],
   "source": [
    "d.get(\"model\")"
   ]
  },
  {
   "cell_type": "code",
   "execution_count": 61,
   "id": "3c0e5188",
   "metadata": {},
   "outputs": [
    {
     "data": {
      "text/plain": [
       "{'brand': 'Mitsubishi', 'model': 'Mirage', 'Year': 2018, 'color': 'pink'}"
      ]
     },
     "execution_count": 61,
     "metadata": {},
     "output_type": "execute_result"
    }
   ],
   "source": [
    "d[\"color\"] = \"pink\"\n",
    "d"
   ]
  },
  {
   "cell_type": "code",
   "execution_count": 62,
   "id": "eeceeaf9",
   "metadata": {},
   "outputs": [
    {
     "data": {
      "text/plain": [
       "dict_keys(['brand', 'model', 'Year', 'color'])"
      ]
     },
     "execution_count": 62,
     "metadata": {},
     "output_type": "execute_result"
    }
   ],
   "source": [
    "d.keys()"
   ]
  },
  {
   "cell_type": "code",
   "execution_count": 63,
   "id": "cffd5961",
   "metadata": {},
   "outputs": [
    {
     "data": {
      "text/plain": [
       "{'brand': 'Mitsubishi', 'Year': 2018, 'color': 'pink'}"
      ]
     },
     "execution_count": 63,
     "metadata": {},
     "output_type": "execute_result"
    }
   ],
   "source": [
    "d.pop(\"model\")\n",
    "d"
   ]
  },
  {
   "cell_type": "code",
   "execution_count": 64,
   "id": "5dd78dac",
   "metadata": {},
   "outputs": [
    {
     "data": {
      "text/plain": [
       "{'brand': 'Mitsubishi', 'Year': 2018}"
      ]
     },
     "execution_count": 64,
     "metadata": {},
     "output_type": "execute_result"
    }
   ],
   "source": [
    "d.popitem()\n",
    "d"
   ]
  },
  {
   "cell_type": "markdown",
   "id": "0f71dd0f",
   "metadata": {},
   "source": [
    "Tuple"
   ]
  },
  {
   "cell_type": "code",
   "execution_count": 73,
   "id": "cba8a4a4",
   "metadata": {},
   "outputs": [
    {
     "data": {
      "text/plain": [
       "('apple', 'banana', 'cherry', 'mango', 'orange')"
      ]
     },
     "execution_count": 73,
     "metadata": {},
     "output_type": "execute_result"
    }
   ],
   "source": [
    "t = \"apple\", \"banana\", \"cherry\", \"mango\", \"orange\"\n",
    "t"
   ]
  },
  {
   "cell_type": "code",
   "execution_count": 67,
   "id": "08fe4053",
   "metadata": {},
   "outputs": [
    {
     "name": "stdout",
     "output_type": "stream",
     "text": [
      "banana\n"
     ]
    }
   ],
   "source": [
    "print(t[1])"
   ]
  },
  {
   "cell_type": "code",
   "execution_count": 68,
   "id": "8baa3f79",
   "metadata": {},
   "outputs": [
    {
     "name": "stdout",
     "output_type": "stream",
     "text": [
      "mango\n"
     ]
    }
   ],
   "source": [
    "print(t[-2])"
   ]
  },
  {
   "cell_type": "code",
   "execution_count": 78,
   "id": "c5a13463",
   "metadata": {},
   "outputs": [
    {
     "name": "stdout",
     "output_type": "stream",
     "text": [
      "('cherry',)\n"
     ]
    }
   ],
   "source": [
    "print(t[2:3])"
   ]
  },
  {
   "cell_type": "code",
   "execution_count": 70,
   "id": "c9827d75",
   "metadata": {},
   "outputs": [
    {
     "ename": "TypeError",
     "evalue": "'tuple' object does not support item assignment",
     "output_type": "error",
     "traceback": [
      "\u001b[1;31m---------------------------------------------------------------------------\u001b[0m",
      "\u001b[1;31mTypeError\u001b[0m                                 Traceback (most recent call last)",
      "Cell \u001b[1;32mIn[70], line 1\u001b[0m\n\u001b[1;32m----> 1\u001b[0m t[\u001b[38;5;241m2\u001b[39m] \u001b[38;5;241m=\u001b[39m \u001b[38;5;124m\"\u001b[39m\u001b[38;5;124morange\u001b[39m\u001b[38;5;124m\"\u001b[39m\n",
      "\u001b[1;31mTypeError\u001b[0m: 'tuple' object does not support item assignment"
     ]
    }
   ],
   "source": [
    "t[2] = \"orange\""
   ]
  },
  {
   "cell_type": "code",
   "execution_count": 71,
   "id": "c90758a1",
   "metadata": {},
   "outputs": [
    {
     "data": {
      "text/plain": [
       "5"
      ]
     },
     "execution_count": 71,
     "metadata": {},
     "output_type": "execute_result"
    }
   ],
   "source": [
    "len(t)"
   ]
  },
  {
   "cell_type": "code",
   "execution_count": 72,
   "id": "e09cf5db",
   "metadata": {},
   "outputs": [
    {
     "ename": "NameError",
     "evalue": "name 't' is not defined",
     "output_type": "error",
     "traceback": [
      "\u001b[1;31m---------------------------------------------------------------------------\u001b[0m",
      "\u001b[1;31mNameError\u001b[0m                                 Traceback (most recent call last)",
      "Cell \u001b[1;32mIn[72], line 2\u001b[0m\n\u001b[0;32m      1\u001b[0m \u001b[38;5;28;01mdel\u001b[39;00m t\n\u001b[1;32m----> 2\u001b[0m t\n",
      "\u001b[1;31mNameError\u001b[0m: name 't' is not defined"
     ]
    }
   ],
   "source": [
    "del t\n",
    "t"
   ]
  },
  {
   "cell_type": "markdown",
   "id": "c92e2828",
   "metadata": {},
   "source": [
    "Set"
   ]
  },
  {
   "cell_type": "code",
   "execution_count": 79,
   "id": "7da6c3d2",
   "metadata": {},
   "outputs": [
    {
     "data": {
      "text/plain": [
       "{'apple', 'banana', 'cherry'}"
      ]
     },
     "execution_count": 79,
     "metadata": {},
     "output_type": "execute_result"
    }
   ],
   "source": [
    "s = {\"apple\", \"banana\", \"cherry\", \"cherry\"}\n",
    "s"
   ]
  },
  {
   "cell_type": "code",
   "execution_count": 80,
   "id": "4304ca98",
   "metadata": {},
   "outputs": [
    {
     "data": {
      "text/plain": [
       "{'apple', 'banana', 'cherry', 'orange'}"
      ]
     },
     "execution_count": 80,
     "metadata": {},
     "output_type": "execute_result"
    }
   ],
   "source": [
    "s.add(\"orange\")\n",
    "s"
   ]
  },
  {
   "cell_type": "code",
   "execution_count": 81,
   "id": "245a7f67",
   "metadata": {},
   "outputs": [
    {
     "data": {
      "text/plain": [
       "{'apple', 'banana', 'cherry', 'grapes', 'mango', 'orange'}"
      ]
     },
     "execution_count": 81,
     "metadata": {},
     "output_type": "execute_result"
    }
   ],
   "source": [
    "s.update([\"mango\",\"grapes\"])\n",
    "s"
   ]
  },
  {
   "cell_type": "code",
   "execution_count": 82,
   "id": "1cad36e8",
   "metadata": {},
   "outputs": [
    {
     "data": {
      "text/plain": [
       "{'apple', 'cherry', 'grapes', 'mango', 'orange'}"
      ]
     },
     "execution_count": 82,
     "metadata": {},
     "output_type": "execute_result"
    }
   ],
   "source": [
    "s.remove(\"banana\")\n",
    "s"
   ]
  },
  {
   "cell_type": "code",
   "execution_count": 83,
   "id": "b33a778c",
   "metadata": {},
   "outputs": [
    {
     "data": {
      "text/plain": [
       "{'cherry', 'grapes', 'mango', 'orange'}"
      ]
     },
     "execution_count": 83,
     "metadata": {},
     "output_type": "execute_result"
    }
   ],
   "source": [
    "s.pop() #random removal\n",
    "s"
   ]
  },
  {
   "cell_type": "markdown",
   "id": "f11e27ad",
   "metadata": {},
   "source": [
    "Input and output"
   ]
  },
  {
   "cell_type": "code",
   "execution_count": null,
   "id": "a18c2e38",
   "metadata": {},
   "outputs": [],
   "source": [
    "p = input(\"Enter your name\") # string"
   ]
  },
  {
   "cell_type": "code",
   "execution_count": null,
   "id": "6d591409",
   "metadata": {},
   "outputs": [],
   "source": [
    "n = int(input(\"Enter a number\")) #specifies data type; integer"
   ]
  },
  {
   "cell_type": "code",
   "execution_count": null,
   "id": "5ea09520",
   "metadata": {},
   "outputs": [],
   "source": [
    "n = float(input(\"Enter a number\")) #floating point integer"
   ]
  },
  {
   "cell_type": "code",
   "execution_count": null,
   "id": "0d5dae50",
   "metadata": {},
   "outputs": [],
   "source": [
    "print(p) #prints string\n",
    "print(n) #prints n; latest value is printed"
   ]
  },
  {
   "cell_type": "code",
   "execution_count": null,
   "id": "08288cec",
   "metadata": {},
   "outputs": [],
   "source": [
    "print(\"My favorite number is \", n, \" and I used it earlier\")"
   ]
  },
  {
   "cell_type": "code",
   "execution_count": 85,
   "id": "a9d9ff6f",
   "metadata": {
    "scrolled": true
   },
   "outputs": [
    {
     "name": "stdout",
     "output_type": "stream",
     "text": [
      "\n",
      "Do you want to Calculate exponents?\n",
      ">>y\n",
      "\n",
      "input a: 2\n",
      "\n",
      "input b: 0\n",
      "\n",
      "input c: 2\n",
      "\n",
      "input d: 0\n",
      "\n",
      "The result is Real:\n",
      "\t 4.0\n",
      "\n",
      "Do you want to Calculate exponents?\n",
      ">>y\n",
      "\n",
      "input a: 0\n",
      "\n",
      "input b: 1\n",
      "\n",
      "input c: 0\n",
      "\n",
      "input d: 1\n",
      "\n",
      "The result is Real:\n",
      "\t 0.20787957635076193\n",
      "\n",
      "Do you want to Calculate exponents?\n",
      ">>y\n",
      "\n",
      "input a: -1\n",
      "\n",
      "input b: 0\n",
      "\n",
      "input c: 0.5\n",
      "\n",
      "input d: 0\n",
      "\n",
      "The result is Imaginary:\n",
      "Rectangular form:\n",
      "\t 1.0  * i\n",
      "\n",
      "Polar form:\n",
      "\t[ 1.0 , 1.5707963267948966 ]\n",
      "\n",
      "Do you want to Calculate exponents?\n",
      ">>y\n",
      "\n",
      "input a: 2\n",
      "\n",
      "input b: 1\n",
      "\n",
      "input c: 3\n",
      "\n",
      "input d: -1\n",
      "\n",
      "The result is Complex:\n",
      "Rectangular form:\n",
      "\t 14.80737883122022  +  9.83358659579031  * i\n",
      "Polar form:\n",
      "\t[ 17.775204448561922 , 0.586223870785368 ]\n",
      "\n",
      "Do you want to Calculate exponents?\n",
      ">>n\n",
      "oka bye\n"
     ]
    }
   ],
   "source": [
    "# This is a program that computes complex exponentiation\n",
    "# The standard form will be:\n",
    "#          (c + di)\n",
    "# (a + bi)\n",
    "# where a, b, c, and d are Real numbers\n",
    "# where the general form of Complex Exponentiation where r = sqrt(a^2 + b^2) and theta = arctan(b/a)\n",
    "##is: (a + bi)^(c + di) = (r^c)*(e^(-d*theta))*(cos(c*theta + d*ln(r)) + i*sin(c*theta + d*ln(r)))\n",
    "\n",
    "import math all #imports math library to use the mathematical functions\n",
    "\n",
    "n = \"y\"\n",
    "\n",
    "while (n != \"n\" and n != \"N\"):\n",
    "    n = input(\"\\nDo you want to Calculate exponents?\\n>>\")\n",
    "    if n == \"y\" or n == \"Y\":\n",
    "        a = float(input(\"\\ninput a: \")) #input real number a (base)\n",
    "        b = float(input(\"\\ninput b: \")) #input real number b for imaginary part (base)\n",
    "        c = float(input(\"\\ninput c: \")) #input real number c (exponent)\n",
    "        d = float(input(\"\\ninput d: \")) #input real number d for imaginary part (exponent)\n",
    "\n",
    "        # base's radius\n",
    "        r = math.sqrt(a*a + b*b)\n",
    "\n",
    "        # if statements for the base's angle\n",
    "        if a == 0: # if its purely imaginary, the angle arctangent would be b/0, and python cannot compute that\n",
    "            if b > 0:\n",
    "                theta = math.pi/2 # where arctan(+b/0) = pi/2; and any pure imaginary number either has pi/2 for positive or (-pi/2 or 3pi/2) for negative\n",
    "            elif b < 0:\n",
    "                theta = -math.pi/2 # where arctan(-b/0) = -pi/2\n",
    "        elif a < 0:# for negative real exponentiation cases\n",
    "            theta = math.pi # where arctan(0/a) will not yield a result, but all negative real numbers will have an angle of pi\n",
    "        else: # otherwise, the normal arctangent will work for these cases\n",
    "            theta = math.atan(b/a)\n",
    "\n",
    "        angle = c*theta + d*math.log(r) #new final angle to be inputed to the modified general formula\n",
    "        radius = (r**c)*math.exp(-d*theta) #new final radius to be inputed to the modified general formula\n",
    "        # both of these will be used the Polar Form\n",
    "\n",
    "        if a == 0 and b == 0 and c == 0: # both forms of 0^0 and 0^i are undefined\n",
    "            print(\"\\nThe value is undefined\")\n",
    "        else: # otherwise, the general form can be computed\n",
    "            real = radius*math.cos(angle) # computes the Real part of the Complex number; the 'a' in \"a + bi\"\n",
    "            imaginary = radius*math.sin(angle) # computes the Imaginary part of the Complex number; the 'b' in \"a + bi\"\n",
    "            ## if statements for checking if the result is Real, Imaginary, or Complex\n",
    "            if round(imaginary,4) == 0: #Real results only\n",
    "                print(\"\\nThe result is Real:\\n\\t\", round(real,4))\n",
    "            elif round(real,4) == 0: #Imaginary results only\n",
    "                print(\"\\nThe result is Imaginary:\\nRectangular form:\\n\\t\", round(imaginary,4), \" * i\")\n",
    "                print(\"\\nPolar form:\\n\\t[\",  round(radius,4) \",\",  round(angle,4) \"]\")\n",
    "            else: # Complex results only\n",
    "                print(\"\\nThe result is Complex:\\nRectangular form:\\n\\t\", round(real,4), \" + \", round(imaginary,4), \" * i\")\n",
    "                print(\"Polar form:\\n\\t[\",  round(radius,4) \",\",  round(angle,4) \"]\")\n",
    "    elif n == \"n\" or n == \"N\":\n",
    "        print(\"oka bye\")\n",
    "    else:\n",
    "        print(\"bruh\")"
   ]
  },
  {
   "cell_type": "code",
   "execution_count": null,
   "id": "2aa98780",
   "metadata": {},
   "outputs": [],
   "source": [
    "from math import *"
   ]
  },
  {
   "cell_type": "code",
   "execution_count": null,
   "id": "4db41b86",
   "metadata": {},
   "outputs": [],
   "source": [
    "#Function syntax\n",
    "def functionName(arguments):\n",
    "    arguments\n",
    "functionName(\"Madee\")\n",
    "\n",
    "#for values, add return\n",
    "\n",
    "def functionName2(x):\n",
    "    y = x + 2\n",
    "    return y\n",
    "\n",
    "functionName2(3)\n",
    "\n"
   ]
  },
  {
   "cell_type": "code",
   "execution_count": 89,
   "id": "a7d657bd",
   "metadata": {},
   "outputs": [
    {
     "name": "stdout",
     "output_type": "stream",
     "text": [
      "\n",
      "Do you want to Calculate exponents?\n",
      ">>y]\n",
      "\n",
      "Please input y or n only\n",
      "\n",
      "Do you want to Calculate exponents?\n",
      ">>y\n",
      "\n",
      "input a: 1\n",
      "\n",
      "input b: 1\n",
      "\n",
      "input c: 1\n",
      "\n",
      "input d: 1\n",
      "\n",
      "The result is Complex:\n",
      "Rectangular form:\n",
      "\t 0.274  +  0.5837  * i\n",
      "Polar form:\n",
      "\t[ 0.6448 , 1.132 ]\n",
      "\n",
      "Do you want to Calculate exponents?\n",
      ">>n\n",
      "\n",
      "Bye-bye!\n"
     ]
    }
   ],
   "source": [
    "# This is a program that computes complex exponentiation\n",
    "# The standard form will be:\n",
    "#          (c + di)\n",
    "# (a + bi)\n",
    "# where a, b, c, and d are Real numbers\n",
    "# where the general form of Complex Exponentiation where r = sqrt(a^2 + b^2) and theta = arctan(b/a)\n",
    "##is: (a + bi)^(c + di) = (r^c)*(e^(-d*theta))*(cos(c*theta + d*ln(r)) + i*sin(c*theta + d*ln(r)))\n",
    "\n",
    "from math import * #imports math library to use the mathematical functions\n",
    "\n",
    "n = \"y\"\n",
    "\n",
    "def findTheta(a,b):\n",
    "    # if statements for the base's angle\n",
    "    if a == 0: # if its purely imaginary, the angle arctangent would be b/0, and python cannot compute that\n",
    "        if b > 0:\n",
    "            thet = pi/2 # where arctan(+b/0) = pi/2; and any pure imaginary number either has pi/2 for positive or (-pi/2 or 3pi/2) for negative\n",
    "        elif b < 0:\n",
    "            thet = -pi/2 # where arctan(-b/0) = -pi/2\n",
    "    elif a < 0:# for negative real exponentiation cases\n",
    "        thet = pi # where arctan(0/a) will not yield a result, but all negative real numbers will have an angle of pi\n",
    "    else: # otherwise, the normal arctangent will work for these cases\n",
    "        thet = atan(b/a)\n",
    "    return thet\n",
    "\n",
    "while (n != \"n\" and n != \"N\"):\n",
    "    n = input(\"\\nDo you want to Calculate exponents?\\n>>\")\n",
    "    if n == \"y\" or n == \"Y\":\n",
    "        a = float(input(\"\\ninput a: \")) #input real number a (base)\n",
    "        b = float(input(\"\\ninput b: \")) #input real number b for imaginary part (base)\n",
    "        c = float(input(\"\\ninput c: \")) #input real number c (exponent)\n",
    "        d = float(input(\"\\ninput d: \")) #input real number d for imaginary part (exponent)\n",
    "\n",
    "        r = sqrt(a*a + b*b) # base's radius\n",
    "        theta = findTheta(a,b) # base's angle\n",
    "\n",
    "        angle = c*theta + d*log(r) #new final angle to be inputed to the modified general formula\n",
    "        radius = (r**c)*exp(-d*theta) #new final radius to be inputed to the modified general formula\n",
    "        # both of these will be used the Polar Form\n",
    "\n",
    "        if a == 0 and b == 0 and c == 0: # both forms of 0^0 and 0^i are undefined\n",
    "            print(\"\\nThe value is undefined\")\n",
    "        else: # otherwise, the general form can be computed\n",
    "            real = radius*cos(angle) # computes the Real part of the Complex number; the 'a' in \"a + bi\"\n",
    "            imaginary = radius*sin(angle) # computes the Imaginary part of the Complex number; the 'b' in \"a + bi\"\n",
    "            ## if statements for checking if the result is Real, Imaginary, or Complex\n",
    "            if round(imaginary,4) == 0: #Real results only\n",
    "                print(\"\\nThe result is Real:\\n\\t\", round(real,4))\n",
    "            elif round(real,4) == 0: #Imaginary results only\n",
    "                print(\"\\nThe result is Imaginary:\\nRectangular form:\\n\\t\", round(imaginary,4), \" * i\")\n",
    "                print(\"\\nPolar form:\\n\\t[\",  round(radius,4), \",\",  round(angle,4), \"]\")\n",
    "            else: # Complex results only\n",
    "                print(\"\\nThe result is Complex:\\nRectangular form:\\n\\t\", round(real,4), \" + \", round(imaginary,4), \" * i\")\n",
    "                print(\"Polar form:\\n\\t[\",  round(radius,4), \",\",  round(angle,4), \"]\")\n",
    "    elif n == \"n\" or n == \"N\":\n",
    "        print(\"\\nBye-bye!\")\n",
    "    else:\n",
    "        print(\"\\nPlease input y or n only\")"
   ]
  },
  {
   "cell_type": "code",
   "execution_count": 97,
   "id": "308a2abe",
   "metadata": {},
   "outputs": [
    {
     "name": "stdout",
     "output_type": "stream",
     "text": [
      "Input a natural number:6\n",
      "Sum of all squares up to this number is: 91 \n"
     ]
    }
   ],
   "source": [
    "from math import *\n",
    "\n",
    "def squaresum(j):\n",
    "    i = 1\n",
    "    m = 0\n",
    "    while(i<=j):\n",
    "        m = m + i*i\n",
    "        i+=1\n",
    "    return m\n",
    "\n",
    "n = int(input(\"Input a natural number:\"))\n",
    "\n",
    "print(\"Sum of all squares up to this number is:\", squaresum(n),\"\")"
   ]
  },
  {
   "cell_type": "code",
   "execution_count": null,
   "id": "699fa18d",
   "metadata": {},
   "outputs": [
    {
     "name": "stdout",
     "output_type": "stream",
     "text": [
      "\n",
      "Do you want to Calculate exponents?\n",
      ">>y\n",
      "\n",
      "input a: 0\n",
      "\n",
      "input b: 1\n",
      "\n",
      "input c: 0\n",
      "\n",
      "input d: 1\n",
      "\n",
      "The result is Real:\n",
      "\t 0.2079\n"
     ]
    }
   ],
   "source": [
    "# This is a program that computes complex exponentiation\n",
    "# The standard form will be:\n",
    "#          (c + di)\n",
    "# (a + bi)\n",
    "# where a, b, c, and d are Real numbers\n",
    "# where the general form of Complex Exponentiation where r = sqrt(a^2 + b^2) and theta = arctan(b/a)\n",
    "##is: (a + bi)^(c + di) = (r^c)*(e^(-d*theta))*(cos(c*theta + d*ln(r)) + i*sin(c*theta + d*ln(r)))\n",
    "\n",
    "from math import * #imports math library to use the mathematical functions\n",
    "\n",
    "def findTheta(a,b):\n",
    "    # if statements for the base's angle\n",
    "    if a == 0: # if its purely imaginary, the angle arctangent would be b/0, and python cannot compute that\n",
    "        if b > 0:\n",
    "            theta = pi/2 # where arctan(+b/0) = pi/2; and any pure imaginary number either has pi/2 for positive or (-pi/2 or 3pi/2) for negative\n",
    "        elif b < 0:\n",
    "            theta = -pi/2 # where arctan(-b/0) = -pi/2\n",
    "    elif a < 0:# for negative real exponentiation cases\n",
    "        theta = pi # where arctan(0/a) will not yield a result, but all negative real numbers will have an angle of pi\n",
    "    else: # otherwise, the normal arctangent will work for these cases\n",
    "        theta = atan(b/a)\n",
    "    return theta\n",
    "\n",
    "def checkComplex(real,imaginary):\n",
    "    ## if statements for checking if the result is Real, Imaginary, or Complex\n",
    "    if round(imaginary,4) == 0: #Real results only\n",
    "        print(\"\\nThe result is Real:\\n\\t\", round(real,4))\n",
    "    elif round(real,4) == 0: #Imaginary results only\n",
    "        print(\"\\nThe result is Imaginary:\\nRectangular form:\\n\\t\", round(imaginary,4), \" * i\")\n",
    "        print(\"\\nPolar form:\\n\\t[\",  round(radius,4), \",\",  round(angle,4), \"]\")\n",
    "    else: # Complex results only\n",
    "        print(\"\\nThe result is Complex:\\nRectangular form:\\n\\t\", round(real,4), \" + \", round(imaginary,4), \" * i\")\n",
    "        print(\"Polar form:\\n\\t[\",  round(radius,4), \",\",  round(angle,4), \"]\")\n",
    "\n",
    "n = \"y\"\n",
    "while (n != \"n\" and n != \"N\"):\n",
    "    n = input(\"\\nDo you want to Calculate exponents?\\n>>\")\n",
    "    if n == \"y\" or n == \"Y\":\n",
    "        a = float(input(\"\\ninput a: \")) #input real number a (base)\n",
    "        b = float(input(\"\\ninput b: \")) #input real number b for imaginary part (base)\n",
    "        c = float(input(\"\\ninput c: \")) #input real number c (exponent)\n",
    "        d = float(input(\"\\ninput d: \")) #input real number d for imaginary part (exponent)\n",
    "\n",
    "        r = sqrt(a*a + b*b) # base's radius\n",
    "        theta = findTheta(a,b) # base's angle\n",
    "\n",
    "        angle = c*theta + d*log(r) #new final angle to be inputed to the modified general formula\n",
    "        radius = (r**c)*exp(-d*theta) #new final radius to be inputed to the modified general formula\n",
    "        # both of these will be used the Polar Form\n",
    "\n",
    "        if a == 0 and b == 0 and c == 0: # both forms of 0^0 and 0^i are undefined\n",
    "            print(\"\\nThe value is undefined\")\n",
    "        else: # otherwise, the general form can be computed\n",
    "            real = radius*cos(angle) # computes the Real part of the Complex number; the 'a' in \"a + bi\"\n",
    "            imaginary = radius*sin(angle) # computes the Imaginary part of the Complex number; the 'b' in \"a + bi\"\n",
    "            checkComplex(real,imaginary)\n",
    "\n",
    "    elif n == \"n\" or n == \"N\":\n",
    "        print(\"\\nBye-bye!\")\n",
    "    else:\n",
    "        print(\"\\nPlease input y or n only\")"
   ]
  },
  {
   "cell_type": "code",
   "execution_count": null,
   "id": "236b6e8d",
   "metadata": {},
   "outputs": [],
   "source": []
  }
 ],
 "metadata": {
  "kernelspec": {
   "display_name": "Python 3 (ipykernel)",
   "language": "python",
   "name": "python3"
  },
  "language_info": {
   "codemirror_mode": {
    "name": "ipython",
    "version": 3
   },
   "file_extension": ".py",
   "mimetype": "text/x-python",
   "name": "python",
   "nbconvert_exporter": "python",
   "pygments_lexer": "ipython3",
   "version": "3.11.4"
  }
 },
 "nbformat": 4,
 "nbformat_minor": 5
}

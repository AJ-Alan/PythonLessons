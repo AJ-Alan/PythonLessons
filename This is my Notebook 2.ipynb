{
 "cells": [
  {
   "cell_type": "markdown",
   "id": "2f18df65",
   "metadata": {},
   "source": [
    "# Base Computing with Python"
   ]
  },
  {
   "cell_type": "markdown",
   "id": "f49d99c1",
   "metadata": {},
   "source": [
    "Conditional statements"
   ]
  },
  {
   "cell_type": "code",
   "execution_count": null,
   "id": "4ce29f5d",
   "metadata": {},
   "outputs": [],
   "source": [
    "#simple; Syntax:\n",
    "\n",
    "#if <condition>:\n",
    "    # <statement>\n",
    "    # indention is important!\n",
    "    \n",
    "#one liner is possible:\n",
    "#if <condition>: <statement>"
   ]
  },
  {
   "cell_type": "code",
   "execution_count": 1,
   "id": "d683217c",
   "metadata": {},
   "outputs": [],
   "source": [
    "#compound; Syntax:\n",
    "\n",
    "#if <condition>:\n",
    "    # <statements>\n",
    "    # <statements>\n",
    "    # ...\n",
    "    # <final statement>\n",
    "    \n",
    "#one liner is also possible:\n",
    "#if <condition>:<statements>; <statements>; ...; <final statement>"
   ]
  },
  {
   "cell_type": "code",
   "execution_count": null,
   "id": "f70faff8",
   "metadata": {},
   "outputs": [],
   "source": [
    "#other conditions; Syntax:\n",
    "\n",
    "#if <condition>:\n",
    "    # <statements>\n",
    "#elif <condition>:\n",
    "    # <statements>\n",
    "#... as many elifs\n",
    "#else:\n",
    "    # <statements>"
   ]
  },
  {
   "cell_type": "code",
   "execution_count": 2,
   "id": "f4bd519b",
   "metadata": {},
   "outputs": [],
   "source": [
    "#others\n",
    "#there are no switch statement :<\n",
    "# pass -> a statement that does nothing"
   ]
  },
  {
   "cell_type": "markdown",
   "id": "69d7ef52",
   "metadata": {},
   "source": [
    "Looping statement"
   ]
  },
  {
   "cell_type": "code",
   "execution_count": null,
   "id": "efc2086a",
   "metadata": {},
   "outputs": [],
   "source": [
    "#Syntaxes:\n",
    "\n",
    "#while(<condition>):\n",
    "    # statements\n",
    "    \n",
    "# where condition == TRUE -> loops; and condition == FALSE -> ends loop\n",
    "    \n",
    "# for <iterating variable> in <sequence>: *sequences refer to arrays such as strings or lists or sets or tuples -> range (n+1) as well\n",
    "    # statements\n",
    "    \n",
    "# break -> ends loop\n",
    "# continues -> returns and continues the loop"
   ]
  },
  {
   "cell_type": "code",
   "execution_count": null,
   "id": "e6d4dde8",
   "metadata": {},
   "outputs": [],
   "source": []
  },
  {
   "cell_type": "code",
   "execution_count": null,
   "id": "73647841",
   "metadata": {},
   "outputs": [],
   "source": []
  }
 ],
 "metadata": {
  "kernelspec": {
   "display_name": "Python 3 (ipykernel)",
   "language": "python",
   "name": "python3"
  },
  "language_info": {
   "codemirror_mode": {
    "name": "ipython",
    "version": 3
   },
   "file_extension": ".py",
   "mimetype": "text/x-python",
   "name": "python",
   "nbconvert_exporter": "python",
   "pygments_lexer": "ipython3",
   "version": "3.11.4"
  }
 },
 "nbformat": 4,
 "nbformat_minor": 5
}
